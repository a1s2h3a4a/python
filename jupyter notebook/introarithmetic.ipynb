{
 "cells": [
  {
   "cell_type": "code",
   "execution_count": null,
   "metadata": {},
   "outputs": [],
   "source": [
    "## Arithmetic Expression Examples\n",
    "Arithmetic expressions involve mathematical operations such as addition, subtraction, multiplication, and division. Below are examples of how to perform these operations.\n",
    "\n",
    "\n",
    "---\n",
    "\n",
    "Exercise 8 - Create a code cell to multiply and add numbers (2 pts)\n",
    "\n",
    "# Multiplication and addition example\n",
    "result = (5 * 6) + 10\n",
    "result\n"
   ]
  }
 ],
 "metadata": {
  "language_info": {
   "name": "python"
  }
 },
 "nbformat": 4,
 "nbformat_minor": 2
}
