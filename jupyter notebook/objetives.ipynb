{
 "cells": [
  {
   "cell_type": "code",
   "execution_count": null,
   "metadata": {},
   "outputs": [],
   "source": [
    "## Objectives\n",
    "- Understand popular programming languages used in data science.\n",
    "- Learn about common libraries and tools.\n",
    "- Perform arithmetic operations in Python.\n",
    "- Create a public JupyterLite Notebook on GitHub.\n"
   ]
  }
 ],
 "metadata": {
  "language_info": {
   "name": "python"
  }
 },
 "nbformat": 4,
 "nbformat_minor": 2
}
